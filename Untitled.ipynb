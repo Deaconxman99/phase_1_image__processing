{
 "cells": [
  {
   "cell_type": "code",
   "execution_count": 1,
   "id": "6d003441",
   "metadata": {},
   "outputs": [],
   "source": [
    "import cv2\n",
    "import numpy as np\n",
    "import matplotlib.pyplot as plt"
   ]
  },
  {
   "cell_type": "code",
   "execution_count": 2,
   "id": "772a11c4",
   "metadata": {},
   "outputs": [],
   "source": [
    "def make_coords(image, line_parameters):\n",
    "    slope, intercept = line_parameters\n",
    "    y1 = image.shape[0]\n",
    "    y2 = int (y1 * (3/4))\n",
    "    x1 = int ((y1 - intercept) / slope)\n",
    "    x2 = int ((y2 - intercept) / slope)\n",
    "    return np.array([x1, y1, x2, y2])"
   ]
  },
  {
   "cell_type": "code",
   "execution_count": 3,
   "id": "14aadb50",
   "metadata": {},
   "outputs": [],
   "source": [
    "def avg_slope_intercept(image, lines):\n",
    "    left_fit = []\n",
    "    right_fit = []\n",
    "    for line in lines:\n",
    "        x1, y1, x2, y2 = line.reshape(4)\n",
    "        parameters = np.polyfit( (x1, x2), (y1, y2), 1)\n",
    "        slope = parameters[0]\n",
    "        intercept = parameters[1]\n",
    "        if slope < 0:\n",
    "            left_fit.append((slope, intercept))\n",
    "        else:\n",
    "            right_fit.append((slope, intercept))\n",
    "    left_fit_avg = np.average(left_fit, axis=0)\n",
    "    right_fit_avg = np.average(right_fit, axis=0)\n",
    "    left_line = make_coords(image, left_fit_avg)\n",
    "    right_line = make_coords(image, right_fit_avg)\n",
    "    return np.array([left_line, right_line])\n"
   ]
  },
  {
   "cell_type": "code",
   "execution_count": null,
   "id": "4b488ea4",
   "metadata": {},
   "outputs": [],
   "source": []
  }
 ],
 "metadata": {
  "kernelspec": {
   "display_name": "Python 3 (ipykernel)",
   "language": "python",
   "name": "python3"
  },
  "language_info": {
   "codemirror_mode": {
    "name": "ipython",
    "version": 3
   },
   "file_extension": ".py",
   "mimetype": "text/x-python",
   "name": "python",
   "nbconvert_exporter": "python",
   "pygments_lexer": "ipython3",
   "version": "3.8.13"
  }
 },
 "nbformat": 4,
 "nbformat_minor": 5
}
